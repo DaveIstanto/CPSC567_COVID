{
 "cells": [
  {
   "cell_type": "markdown",
   "metadata": {},
   "source": [
    "# Geographical Scratch Notebook"
   ]
  },
  {
   "cell_type": "code",
   "execution_count": 5,
   "metadata": {},
   "outputs": [],
   "source": [
    "# Check if all aligned sequence has the same length\n",
    "\n",
    "test_seq = '/Users/daveistanto/Dropbox/UIUCGraduateSchool/Classes/CPSC567/project/dataset/regional_sequences/multiple_test_sequences.fasta'\n",
    "result_seq = '/Users/daveistanto/Dropbox/UIUCGraduateSchool/Classes/CPSC567/project/dataset/regional_sequences/test_results.fasta'\n",
    "\n",
    "\n",
    "def read_fasta(fasta_file):\n",
    "\n",
    "    fasta_dict = dict()\n",
    "    with open (fasta_file, 'r') as f:\n",
    "        lines = f.readlines()\n",
    "\n",
    "        for line in lines:\n",
    "            if '>' in line:\n",
    "                key = line[1:-1]\n",
    "                fasta_dict[key] = ''\n",
    "            else:\n",
    "                fasta_dict[key] += line[:-1]\n",
    "    return fasta_dict\n",
    "\n"
   ]
  },
  {
   "cell_type": "code",
   "execution_count": 6,
   "metadata": {},
   "outputs": [],
   "source": [
    "test_dict = read_fasta(test_seq)\n",
    "result_dict = read_fasta(result_seq)"
   ]
  },
  {
   "cell_type": "code",
   "execution_count": 16,
   "metadata": {},
   "outputs": [],
   "source": [
    "names = []\n",
    "aligned_seq_array = []\n",
    "for name, sequence in result_dict.items():\n",
    "    aligned_seq_array.append(list(sequence))\n",
    "    names.append(name)"
   ]
  },
  {
   "cell_type": "code",
   "execution_count": 17,
   "metadata": {},
   "outputs": [],
   "source": [
    "import numpy as np\n",
    "\n",
    "names = np.array(aligned_names)\n",
    "aligned_seq_array = np.array(aligned_seq_array)\n"
   ]
  },
  {
   "cell_type": "code",
   "execution_count": 30,
   "metadata": {},
   "outputs": [],
   "source": [
    "test_align = aligned_seq_array[:, :100]"
   ]
  },
  {
   "cell_type": "code",
   "execution_count": 47,
   "metadata": {},
   "outputs": [],
   "source": [
    "# Replace non A, T, G, C with '-'\n",
    "test_align = np.where(np.isin(test_align, ['A', 'T', 'G', 'C']), test_align, '-')"
   ]
  },
  {
   "cell_type": "code",
   "execution_count": 48,
   "metadata": {},
   "outputs": [
    {
     "data": {
      "text/plain": [
       "array(['T', 'G', 'T', '-', 'A', 'A', 'G', 'G', 'T', 'T', 'T', 'A', 'T',\n",
       "       'A', 'C', 'C', 'T', 'T', 'C', 'C', 'C', 'A', 'G', 'G', 'T', 'A',\n",
       "       'A', 'C', 'A', 'A', 'A', 'C', 'C', 'A', 'A', 'C', 'C', 'A', 'A',\n",
       "       'C', 'T', 'T', 'T', 'C', 'G', 'A', 'T', 'C', 'T', 'C', 'T', 'T',\n",
       "       'G', 'T', 'A', 'G', 'A', 'T', 'C', 'T', 'G', 'T', 'T', 'C', 'T',\n",
       "       'C', 'T', 'A', 'A', 'A', 'C', 'G', 'A', 'A', 'C', 'T', 'T', 'T',\n",
       "       'A', 'A', 'A', 'A', 'T', 'C', 'T', 'G', 'T', 'G', 'T', 'G', 'G',\n",
       "       'C', 'T', 'G', 'T', 'C', 'A', 'C', 'T', 'C'], dtype='<U1')"
      ]
     },
     "execution_count": 48,
     "metadata": {},
     "output_type": "execute_result"
    }
   ],
   "source": [
    "test_align.shape\n",
    "test_align[1, :]"
   ]
  },
  {
   "cell_type": "code",
   "execution_count": 50,
   "metadata": {},
   "outputs": [
    {
     "data": {
      "text/plain": [
       "array([  1.,  23.,   1.,   0., 185.])"
      ]
     },
     "execution_count": 50,
     "metadata": {},
     "output_type": "execute_result"
    }
   ],
   "source": [
    "# For each position, count how many As, Ts, Gs, Cs, and -s, represent them in a 5-dimensional vector with counts of A,T,G,C and - respectively.\n",
    "def count_bases(position_vector):\n",
    "    count_vector = np.zeros(5)\n",
    "    bases = ['A', 'T', 'G', 'C', '-']\n",
    "    \n",
    "    for i in range(len(bases)):\n",
    "        base = bases[i]\n",
    "        \n",
    "        # Filter\n",
    "        base_filter = position_vector == base\n",
    "        count_vector[i] += len(position_vector[base_filter])\n",
    "    \n",
    "    return count_vector"
   ]
  },
  {
   "cell_type": "code",
   "execution_count": 52,
   "metadata": {},
   "outputs": [],
   "source": [
    "base_counts = []\n",
    "for pos in range(test_align.shape[1]):\n",
    "    position_vec = test_align[:, pos]\n",
    "    \n",
    "    base_counts.append(count_bases(position_vec))\n",
    "base_counts = np.array(base_counts).transpose()"
   ]
  },
  {
   "cell_type": "code",
   "execution_count": 75,
   "metadata": {},
   "outputs": [],
   "source": [
    "base_proportions = []\n",
    "for pos in range(base_counts.shape[1]):\n",
    "    position_vec = base_counts[:5, pos]\n",
    "    sum_current_vec = np.sum(position_vec)\n",
    "    base_proportions.append(position_vec/sum_current_vec)\n",
    "\n",
    "base_proportions = np.array(base_proportions).transpose()\n",
    "    "
   ]
  },
  {
   "cell_type": "code",
   "execution_count": 77,
   "metadata": {},
   "outputs": [
    {
     "data": {
      "text/plain": [
       "array([[0.10952381, 0.0047619 , 0.        , 0.11904762, 0.15238095,\n",
       "        0.15714286, 0.        , 0.        , 0.        , 0.        ,\n",
       "        0.        , 0.2       , 0.        , 0.22857143, 0.        ,\n",
       "        0.        , 0.        , 0.        , 0.        , 0.        ,\n",
       "        0.        , 0.3047619 , 0.        , 0.        , 0.        ,\n",
       "        0.32857143, 0.33809524, 0.        , 0.34761905, 0.34761905,\n",
       "        0.34761905, 0.        , 0.        , 0.28571429, 0.28095238,\n",
       "        0.        , 0.11904762, 0.5047619 , 0.5047619 , 0.        ,\n",
       "        0.        , 0.        , 0.        , 0.        , 0.        ,\n",
       "        0.5047619 , 0.        , 0.        , 0.        , 0.        ,\n",
       "        0.        , 0.        , 0.        , 0.        , 0.63809524,\n",
       "        0.        , 0.65714286, 0.        , 0.        , 0.        ,\n",
       "        0.        , 0.        , 0.        , 0.        , 0.        ,\n",
       "        0.        , 0.        , 0.69047619, 0.69047619, 0.69047619,\n",
       "        0.        , 0.        , 0.69047619, 0.7047619 , 0.        ,\n",
       "        0.        , 0.        , 0.        , 0.75714286, 0.76190476,\n",
       "        0.76190476, 0.76190476, 0.        , 0.        , 0.        ,\n",
       "        0.        , 0.        , 0.        , 0.        , 0.        ,\n",
       "        0.        , 0.        , 0.        , 0.        , 0.        ,\n",
       "        0.        , 0.78571429, 0.        , 0.        , 0.        ],\n",
       "       [0.0047619 , 0.10952381, 0.13333333, 0.0047619 , 0.0047619 ,\n",
       "        0.        , 0.        , 0.        , 0.18571429, 0.19047619,\n",
       "        0.19047619, 0.        , 0.2047619 , 0.        , 0.        ,\n",
       "        0.        , 0.27619048, 0.28095238, 0.        , 0.        ,\n",
       "        0.        , 0.        , 0.        , 0.        , 0.31904762,\n",
       "        0.        , 0.        , 0.        , 0.        , 0.        ,\n",
       "        0.        , 0.        , 0.        , 0.11428571, 0.2       ,\n",
       "        0.2       , 0.01428571, 0.        , 0.        , 0.        ,\n",
       "        0.50952381, 0.50952381, 0.50952381, 0.        , 0.        ,\n",
       "        0.        , 0.50952381, 0.        , 0.51904762, 0.        ,\n",
       "        0.53809524, 0.55714286, 0.0047619 , 0.55714286, 0.        ,\n",
       "        0.        , 0.        , 0.65714286, 0.        , 0.65714286,\n",
       "        0.        , 0.67142857, 0.68571429, 0.        , 0.68571429,\n",
       "        0.        , 0.6952381 , 0.        , 0.        , 0.        ,\n",
       "        0.        , 0.        , 0.        , 0.        , 0.        ,\n",
       "        0.76190476, 0.75714286, 0.76190476, 0.        , 0.        ,\n",
       "        0.        , 0.        , 0.76666667, 0.0047619 , 0.77142857,\n",
       "        0.        , 0.77619048, 0.        , 0.77619048, 0.        ,\n",
       "        0.        , 0.        , 0.78095238, 0.        , 0.78571429,\n",
       "        0.        , 0.        , 0.        , 0.78571429, 0.        ],\n",
       "       [0.        , 0.0047619 , 0.        , 0.        , 0.        ,\n",
       "        0.        , 0.17619048, 0.18571429, 0.        , 0.        ,\n",
       "        0.        , 0.        , 0.        , 0.        , 0.        ,\n",
       "        0.        , 0.        , 0.        , 0.        , 0.        ,\n",
       "        0.        , 0.        , 0.3       , 0.30952381, 0.        ,\n",
       "        0.        , 0.        , 0.        , 0.        , 0.        ,\n",
       "        0.        , 0.        , 0.        , 0.        , 0.        ,\n",
       "        0.        , 0.        , 0.        , 0.        , 0.        ,\n",
       "        0.        , 0.        , 0.        , 0.        , 0.50952381,\n",
       "        0.        , 0.        , 0.        , 0.        , 0.        ,\n",
       "        0.        , 0.0047619 , 0.55714286, 0.        , 0.        ,\n",
       "        0.65238095, 0.        , 0.        , 0.        , 0.        ,\n",
       "        0.66190476, 0.        , 0.        , 0.        , 0.        ,\n",
       "        0.        , 0.        , 0.        , 0.        , 0.        ,\n",
       "        0.        , 0.69047619, 0.        , 0.        , 0.        ,\n",
       "        0.        , 0.        , 0.        , 0.0047619 , 0.        ,\n",
       "        0.        , 0.        , 0.        , 0.        , 0.        ,\n",
       "        0.77619048, 0.        , 0.77619048, 0.        , 0.77142857,\n",
       "        0.77619048, 0.        , 0.        , 0.78571429, 0.        ,\n",
       "        0.        , 0.        , 0.        , 0.        , 0.        ],\n",
       "       [0.0047619 , 0.        , 0.        , 0.        , 0.        ,\n",
       "        0.        , 0.        , 0.        , 0.        , 0.        ,\n",
       "        0.        , 0.        , 0.0047619 , 0.        , 0.25714286,\n",
       "        0.27142857, 0.        , 0.        , 0.2952381 , 0.3       ,\n",
       "        0.3047619 , 0.        , 0.0047619 , 0.        , 0.        ,\n",
       "        0.        , 0.        , 0.34285714, 0.        , 0.        ,\n",
       "        0.        , 0.43333333, 0.46190476, 0.00952381, 0.        ,\n",
       "        0.2952381 , 0.27619048, 0.        , 0.        , 0.50952381,\n",
       "        0.        , 0.        , 0.        , 0.50952381, 0.        ,\n",
       "        0.        , 0.        , 0.51428571, 0.        , 0.53333333,\n",
       "        0.        , 0.        , 0.        , 0.0047619 , 0.0047619 ,\n",
       "        0.        , 0.        , 0.        , 0.65714286, 0.        ,\n",
       "        0.        , 0.        , 0.        , 0.68571429, 0.        ,\n",
       "        0.6952381 , 0.        , 0.        , 0.        , 0.        ,\n",
       "        0.69047619, 0.        , 0.        , 0.        , 0.76190476,\n",
       "        0.        , 0.        , 0.        , 0.        , 0.        ,\n",
       "        0.        , 0.        , 0.        , 0.77142857, 0.0047619 ,\n",
       "        0.        , 0.        , 0.        , 0.        , 0.        ,\n",
       "        0.0047619 , 0.78095238, 0.        , 0.        , 0.        ,\n",
       "        0.78571429, 0.        , 0.78571429, 0.        , 0.78571429],\n",
       "       [0.88095238, 0.88095238, 0.86666667, 0.87619048, 0.84285714,\n",
       "        0.84285714, 0.82380952, 0.81428571, 0.81428571, 0.80952381,\n",
       "        0.80952381, 0.8       , 0.79047619, 0.77142857, 0.74285714,\n",
       "        0.72857143, 0.72380952, 0.71904762, 0.7047619 , 0.7       ,\n",
       "        0.6952381 , 0.6952381 , 0.6952381 , 0.69047619, 0.68095238,\n",
       "        0.67142857, 0.66190476, 0.65714286, 0.65238095, 0.65238095,\n",
       "        0.65238095, 0.56666667, 0.53809524, 0.59047619, 0.51904762,\n",
       "        0.5047619 , 0.59047619, 0.4952381 , 0.4952381 , 0.49047619,\n",
       "        0.49047619, 0.49047619, 0.49047619, 0.49047619, 0.49047619,\n",
       "        0.4952381 , 0.49047619, 0.48571429, 0.48095238, 0.46666667,\n",
       "        0.46190476, 0.43809524, 0.43809524, 0.43809524, 0.35714286,\n",
       "        0.34761905, 0.34285714, 0.34285714, 0.34285714, 0.34285714,\n",
       "        0.33809524, 0.32857143, 0.31428571, 0.31428571, 0.31428571,\n",
       "        0.3047619 , 0.3047619 , 0.30952381, 0.30952381, 0.30952381,\n",
       "        0.30952381, 0.30952381, 0.30952381, 0.2952381 , 0.23809524,\n",
       "        0.23809524, 0.24285714, 0.23809524, 0.23809524, 0.23809524,\n",
       "        0.23809524, 0.23809524, 0.23333333, 0.22380952, 0.22380952,\n",
       "        0.22380952, 0.22380952, 0.22380952, 0.22380952, 0.22857143,\n",
       "        0.21904762, 0.21904762, 0.21904762, 0.21428571, 0.21428571,\n",
       "        0.21428571, 0.21428571, 0.21428571, 0.21428571, 0.21428571]])"
      ]
     },
     "execution_count": 77,
     "metadata": {},
     "output_type": "execute_result"
    }
   ],
   "source": [
    "base_proportions"
   ]
  },
  {
   "cell_type": "code",
   "execution_count": null,
   "metadata": {},
   "outputs": [],
   "source": []
  }
 ],
 "metadata": {
  "kernelspec": {
   "display_name": "Python 3",
   "language": "python",
   "name": "python3"
  },
  "language_info": {
   "codemirror_mode": {
    "name": "ipython",
    "version": 3
   },
   "file_extension": ".py",
   "mimetype": "text/x-python",
   "name": "python",
   "nbconvert_exporter": "python",
   "pygments_lexer": "ipython3",
   "version": "3.7.0"
  }
 },
 "nbformat": 4,
 "nbformat_minor": 2
}
