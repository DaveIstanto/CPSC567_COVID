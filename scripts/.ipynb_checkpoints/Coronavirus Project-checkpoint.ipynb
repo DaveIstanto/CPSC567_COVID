{
 "cells": [
  {
   "cell_type": "markdown",
   "metadata": {},
   "source": [
    "# Coronavirus COVID-19 project\n",
    "Objective: Find interesting positions based on the multiple alignment files"
   ]
  },
  {
   "cell_type": "code",
   "execution_count": 15,
   "metadata": {},
   "outputs": [],
   "source": [
    "# Read fasta file\n",
    "\n",
    "def read_fasta(fasta_file):\n",
    "\n",
    "    fasta_dict = dict()\n",
    "    with open (fasta_file, 'r') as f:\n",
    "        lines = f.readlines()\n",
    "\n",
    "        for line in lines:\n",
    "            if '>' in line:\n",
    "                key = line[1:-1]\n",
    "                fasta_dict[key] = ''\n",
    "            else:\n",
    "                fasta_dict[key] += line[:-1]\n",
    "    return fasta_dict\n",
    "\n",
    "# Read aligned fasta file\n",
    "aligned_fasta = '../dataset/regional_sequences/multiple_regional_sequences_aligned.fasta'\n",
    "aligned_dict = read_fasta(aligned_fasta)\n",
    "\n",
    "# Read unaligned fasta\n",
    "unaligned_fasta = '../dataset/regional_sequences/multiple_regional_sequences_unaligned.fasta'\n",
    "unaligned_dict = read_fasta(unaligned_fasta)"
   ]
  },
  {
   "cell_type": "code",
   "execution_count": 3,
   "metadata": {},
   "outputs": [],
   "source": [
    "# Get accession names and prepare numpy array\n",
    "import numpy as np\n",
    "\n",
    "accession_array = []\n",
    "aligned_seq_array = []\n",
    "for name, sequence in aligned_dict.items():\n",
    "    aligned_seq_array.append(list(sequence))\n",
    "    accession_array.append(name.split('|')[0][:-1])\n",
    "    \n",
    "aligned_seq_array = np.array(aligned_seq_array)\n",
    "accession_array = np.array(accession_array)"
   ]
  },
  {
   "cell_type": "code",
   "execution_count": 46,
   "metadata": {},
   "outputs": [],
   "source": [
    "# Replace non A,T,G,C with -\n",
    "\n",
    "aligned_seq_array = np.where(np.isin(aligned_seq_array, ['A', 'T', 'G', 'C']), aligned_seq_array, '-')"
   ]
  },
  {
   "cell_type": "code",
   "execution_count": 47,
   "metadata": {},
   "outputs": [],
   "source": [
    "aligned_ref = aligned_seq_array[0, :]\n",
    "unaligned_ref = np.array(list(unaligned_dict['NC_045512 |Severe acute respiratory syndrome coronavirus 2 isolate Wuhan-Hu-1| complete genome']))"
   ]
  },
  {
   "cell_type": "code",
   "execution_count": 53,
   "metadata": {},
   "outputs": [],
   "source": [
    "# Get the dictionary of key ref. aligned position sequance, value reference actual position\n",
    "aligned_pos_translator = dict() # Translate aligned index to unaligned position\n",
    "ptr_1 = 0\n",
    "ptr_2 = 0\n",
    "\n",
    "while ptr_2 < len(unaligned_ref):\n",
    "    if aligned_ref[ptr_1] == unaligned_ref[ptr_2]:\n",
    "        aligned_pos_translator[ptr_1] = ptr_2\n",
    "        \n",
    "        ptr_1 += 1\n",
    "        ptr_2 += 1\n",
    "    \n",
    "    else:\n",
    "        ptr_1 += 1\n",
    "\n",
    "unaligned_pos_translator = dict() # Make the opposite dictionary\n",
    "for key, value in list(aligned_pos_translator.items()):\n",
    "    unaligned_pos_translator[value] = key\n"
   ]
  },
  {
   "cell_type": "code",
   "execution_count": 57,
   "metadata": {},
   "outputs": [],
   "source": [
    "# Count the bases on each position, then calculate the non NA ratios\n",
    "# For each position, count how many As, Ts, Gs, Cs, and -s, represent them in a 5-dimensional vector with counts of A,T,G,C and - respectively.\n",
    "def count_bases(position_vector):\n",
    "    count_vector = np.zeros(5)\n",
    "    bases = ['A', 'T', 'G', 'C', '-']\n",
    "    \n",
    "    for i in range(len(bases)):\n",
    "        base = bases[i]\n",
    "        \n",
    "        # Filter\n",
    "        base_filter = position_vector == base\n",
    "        count_vector[i] += len(position_vector[base_filter])\n",
    "    \n",
    "    return count_vector\n",
    "\n",
    "# Use count_bases()\n",
    "\n",
    "base_counts = []\n",
    "for pos in range(aligned_seq_array.shape[1]):\n",
    "    position_vec = aligned_seq_array[:, pos]\n",
    "    \n",
    "    base_counts.append(count_bases(position_vec))\n",
    "base_counts = np.array(base_counts).transpose()"
   ]
  },
  {
   "cell_type": "code",
   "execution_count": 58,
   "metadata": {},
   "outputs": [
    {
     "name": "stderr",
     "output_type": "stream",
     "text": [
      "/usr/local/lib/python3.7/site-packages/ipykernel_launcher.py:7: RuntimeWarning: invalid value encountered in true_divide\n",
      "  import sys\n"
     ]
    }
   ],
   "source": [
    "# Get the base proportions for all non-NA entries\n",
    "\n",
    "base_proportions = []\n",
    "for pos in range(base_counts.shape[1]):\n",
    "    position_vec = base_counts[:4, pos]\n",
    "    sum_current_vec = np.sum(position_vec)\n",
    "    base_proportions.append(position_vec/sum_current_vec)\n",
    "\n",
    "base_proportions = np.array(base_proportions).transpose()"
   ]
  },
  {
   "cell_type": "code",
   "execution_count": 99,
   "metadata": {},
   "outputs": [],
   "source": [
    "# Get variance for each spot\n",
    "var_unaligned = np.var(base_proportions, axis = 0)\n",
    "\n",
    "align_mask = np.isin(np.array([i for i in range(len(aligned_ref))]), list(aligned_pos_translator.keys())) # Mask aligned\n",
    "var_aligned = var_unaligned[align_mask]"
   ]
  },
  {
   "cell_type": "code",
   "execution_count": 127,
   "metadata": {},
   "outputs": [
    {
     "data": {
      "image/png": "[encoded data removed]",
      "text/plain": [
       "<Figure size 1080x720 with 1 Axes>"
      ]
     },
     "metadata": {
      "needs_background": "light"
     },
     "output_type": "display_data"
    }
   ],
   "source": [
    "# Visualize variation in every spot\n",
    "\n",
    "import matplotlib.pyplot as plt\n",
    "\n",
    "def visualize_var(var_array):\n",
    "    # Setup figure\n",
    "    fig = plt.figure(figsize=(15, 10))\n",
    "    plt.xlabel('Position in genome')\n",
    "    plt.ylabel('Variance (Based on bases frequency)')\n",
    "    plt.xlim((0, len(var_array)))\n",
    "    \n",
    "    # Prep data\n",
    "    x_values = np.arange(len(var_array))\n",
    "    y_values = var_array\n",
    "    \n",
    "    # Plot data\n",
    "    plt.plot(x_values, y_values)\n",
    "    plt.show()\n",
    "    \n",
    "visualize_var(var_aligned)"
   ]
  }
 ],
 "metadata": {
  "kernelspec": {
   "display_name": "Python 3",
   "language": "python",
   "name": "python3"
  },
  "language_info": {
   "codemirror_mode": {
    "name": "ipython",
    "version": 3
   },
   "file_extension": ".py",
   "mimetype": "text/x-python",
   "name": "python",
   "nbconvert_exporter": "python",
   "pygments_lexer": "ipython3",
   "version": "3.7.7"
  }
 },
 "nbformat": 4,
 "nbformat_minor": 4
}
