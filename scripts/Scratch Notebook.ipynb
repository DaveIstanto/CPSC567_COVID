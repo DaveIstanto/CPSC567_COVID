{
 "cells": [
  {
   "cell_type": "markdown",
   "metadata": {},
   "source": [
    "# Geographical Scratch Notebook"
   ]
  },
  {
   "cell_type": "code",
   "execution_count": 154,
   "metadata": {},
   "outputs": [],
   "source": [
    "# Check if all aligned sequence has the same length\n",
    "\n",
    "test_seq = '/Users/daveistanto/Dropbox/UIUCGraduateSchool/Classes/CPSC567/project/dataset/regional_sequences/multiple_regional_sequences.fasta'\n",
    "result_seq = '/Users/daveistanto/Dropbox/UIUCGraduateSchool/Classes/CPSC567/project/dataset/regional_sequences/test_results.fasta'\n",
    "\n",
    "\n",
    "def read_fasta(fasta_file):\n",
    "\n",
    "    fasta_dict = dict()\n",
    "    with open (fasta_file, 'r') as f:\n",
    "        lines = f.readlines()\n",
    "\n",
    "        for line in lines:\n",
    "            if '>' in line:\n",
    "                key = line[1:-1]\n",
    "                fasta_dict[key] = ''\n",
    "            else:\n",
    "                fasta_dict[key] += line[:-1]\n",
    "    return fasta_dict\n",
    "\n"
   ]
  },
  {
   "cell_type": "code",
   "execution_count": 155,
   "metadata": {},
   "outputs": [],
   "source": [
    "test_dict = read_fasta(test_seq)\n",
    "result_dict = read_fasta(result_seq)"
   ]
  },
  {
   "cell_type": "code",
   "execution_count": 151,
   "metadata": {},
   "outputs": [],
   "source": [
    "names = []\n",
    "aligned_seq_array = []\n",
    "for name, sequence in result_dict.items():\n",
    "    aligned_seq_array.append(list(sequence))\n",
    "    names.append(name.split('|')[0][:-1])"
   ]
  },
  {
   "cell_type": "code",
   "execution_count": 133,
   "metadata": {},
   "outputs": [],
   "source": [
    "import numpy as np\n",
    "\n",
    "names = np.array(aligned_names)\n",
    "aligned_seq_array = np.array(aligned_seq_array)\n"
   ]
  },
  {
   "cell_type": "code",
   "execution_count": 134,
   "metadata": {},
   "outputs": [],
   "source": [
    "test_align = aligned_seq_array"
   ]
  },
  {
   "cell_type": "code",
   "execution_count": 135,
   "metadata": {},
   "outputs": [],
   "source": [
    "# Replace non A, T, G, C with '-'\n",
    "test_align = np.where(np.isin(test_align, ['A', 'T', 'G', 'C']), test_align, '-')"
   ]
  },
  {
   "cell_type": "code",
   "execution_count": 136,
   "metadata": {},
   "outputs": [],
   "source": [
    "# For each position, count how many As, Ts, Gs, Cs, and -s, represent them in a 5-dimensional vector with counts of A,T,G,C and - respectively.\n",
    "def count_bases(position_vector):\n",
    "    count_vector = np.zeros(5)\n",
    "    bases = ['A', 'T', 'G', 'C', '-']\n",
    "    \n",
    "    for i in range(len(bases)):\n",
    "        base = bases[i]\n",
    "        \n",
    "        # Filter\n",
    "        base_filter = position_vector == base\n",
    "        count_vector[i] += len(position_vector[base_filter])\n",
    "    \n",
    "    return count_vector"
   ]
  },
  {
   "cell_type": "code",
   "execution_count": 137,
   "metadata": {},
   "outputs": [],
   "source": []
  },
  {
   "cell_type": "code",
   "execution_count": 138,
   "metadata": {},
   "outputs": [],
   "source": [
    "base_proportions = []\n",
    "for pos in range(base_counts.shape[1]):\n",
    "    position_vec = base_counts[:4, pos]\n",
    "    sum_current_vec = np.sum(position_vec)\n",
    "    base_proportions.append(position_vec/sum_current_vec)\n",
    "\n",
    "base_proportions = np.array(base_proportions).transpose()\n"
   ]
  },
  {
   "cell_type": "code",
   "execution_count": 139,
   "metadata": {},
   "outputs": [],
   "source": [
    "# What is an interesting position:\n",
    "# Current take: Where the reference allele frequency (presumably the highest) is less than certain treshold\n",
    "# Then, we check those locations, and see if the location is interesting (Such as where the spike protein gene is located)\n",
    "\n"
   ]
  },
  {
   "cell_type": "code",
   "execution_count": 157,
   "metadata": {},
   "outputs": [],
   "source": [
    "# Get position where it's less than ths\n",
    "ths = 0.98\n",
    "interesting_positions = np.where(np.amax(base_proportions, axis = 0) < ths)"
   ]
  },
  {
   "cell_type": "code",
   "execution_count": 158,
   "metadata": {},
   "outputs": [
    {
     "data": {
      "text/plain": [
       "(array([    0,     1,     3,     4,    12,    33,    34,    35,    36,\n",
       "          240,  1058,  3036,  8781, 11082, 11319, 14407, 14804, 15926,\n",
       "        17746, 17857, 18059, 23009, 23402, 25562, 26935, 27383, 27963,\n",
       "        28143, 28880, 28881, 28882, 29552, 29865, 29866, 29867, 29868,\n",
       "        29869, 29903, 29907, 29909, 29911, 29913, 29914, 29915, 29916]),)"
      ]
     },
     "execution_count": 158,
     "metadata": {},
     "output_type": "execute_result"
    }
   ],
   "source": [
    "interesting_positions"
   ]
  },
  {
   "cell_type": "code",
   "execution_count": 142,
   "metadata": {},
   "outputs": [
    {
     "data": {
      "text/plain": [
       "USA            277\n",
       "China           82\n",
       "Iran            15\n",
       "Spain           10\n",
       "Australia        7\n",
       "Viet Nam         6\n",
       "Italy            6\n",
       "India            4\n",
       "Philippines      4\n",
       "Japan            3\n",
       "Taiwan           3\n",
       "Malaysia         3\n",
       "Pakistan         2\n",
       "Belgium          2\n",
       "Thailand         2\n",
       "Nigeria          1\n",
       "Sweden           1\n",
       "Nepal            1\n",
       "Brazil           1\n",
       "Peru             1\n",
       "Finland          1\n",
       "Colombia         1\n",
       "South Korea      1\n",
       "Name: Geo_Location, dtype: int64"
      ]
     },
     "execution_count": 142,
     "metadata": {},
     "output_type": "execute_result"
    }
   ],
   "source": [
    "# Get distribution of regions\n",
    "import pandas as pd\n",
    "\n",
    "accesion_df = pd.read_csv('../dataset/accession_data.csv').set_index('Accession')\n",
    "\n",
    "# Check distribution of samples\n",
    "accesion_df.loc[:, 'Geo_Location'].value_counts()"
   ]
  },
  {
   "cell_type": "code",
   "execution_count": null,
   "metadata": {},
   "outputs": [],
   "source": []
  },
  {
   "cell_type": "code",
   "execution_count": 153,
   "metadata": {},
   "outputs": [
    {
     "data": {
      "text/plain": [
       "USA         181\n",
       "China        22\n",
       "Spain         2\n",
       "Japan         2\n",
       "Peru          1\n",
       "Pakistan      1\n",
       "Colombia      1\n",
       "Name: Geo_Location, dtype: int64"
      ]
     },
     "execution_count": 153,
     "metadata": {},
     "output_type": "execute_result"
    }
   ],
   "source": [
    "accesion_df.loc[names, 'Geo_Location'].value_counts()"
   ]
  },
  {
   "cell_type": "code",
   "execution_count": null,
   "metadata": {},
   "outputs": [],
   "source": []
  }
 ],
 "metadata": {
  "kernelspec": {
   "display_name": "Python 3",
   "language": "python",
   "name": "python3"
  },
  "language_info": {
   "codemirror_mode": {
    "name": "ipython",
    "version": 3
   },
   "file_extension": ".py",
   "mimetype": "text/x-python",
   "name": "python",
   "nbconvert_exporter": "python",
   "pygments_lexer": "ipython3",
   "version": "3.7.0"
  }
 },
 "nbformat": 4,
 "nbformat_minor": 2
}
